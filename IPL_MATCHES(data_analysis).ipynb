{
  "nbformat": 4,
  "nbformat_minor": 0,
  "metadata": {
    "colab": {
      "provenance": [],
      "authorship_tag": "ABX9TyOrMS6jxMYeY25lw7XVAsW9",
      "include_colab_link": true
    },
    "kernelspec": {
      "name": "python3",
      "display_name": "Python 3"
    },
    "language_info": {
      "name": "python"
    }
  },
  "cells": [
    {
      "cell_type": "markdown",
      "metadata": {
        "id": "view-in-github",
        "colab_type": "text"
      },
      "source": [
        "<a href=\"https://colab.research.google.com/github/bhaskarr103/ipl/blob/main/IPL_MATCHES(data_analysis).ipynb\" target=\"_parent\"><img src=\"https://colab.research.google.com/assets/colab-badge.svg\" alt=\"Open In Colab\"/></a>"
      ]
    },
    {
      "cell_type": "markdown",
      "source": [
        "***Data Analysis of ipl-matches data sheet.***\n",
        "***To perform variouys applications of Python PANDAS.***"
      ],
      "metadata": {
        "id": "B1fuJSgwnfzs"
      }
    },
    {
      "cell_type": "code",
      "source": [
        "import pandas as pd\n",
        "\n",
        "pd.read_csv('/content/ipl-matches.csv')"
      ],
      "metadata": {
        "id": "AebpxcVQn3yP"
      },
      "execution_count": null,
      "outputs": []
    },
    {
      "cell_type": "code",
      "source": [
        "import pandas as pd\n",
        "\n",
        "matches = pd.read_csv('/content/ipl-matches.csv')\n",
        "\n",
        "mask = matches['MatchNumber'] == 'Final'\n",
        "print(mask)\n",
        "\n",
        "# total number of final matches played.\n",
        "print(mask.sum())\n",
        "\n",
        "\n",
        "# find all the final winners.\n",
        "\n",
        "new = matches[mask]  # --> ismei sei mujhei winnning team niaklni hai.\n",
        "print(new)\n",
        "\n",
        "\n",
        "new[['Season','WinningTeam']]\n"
      ],
      "metadata": {
        "id": "b5RU4-a_pX7V"
      },
      "execution_count": null,
      "outputs": []
    },
    {
      "cell_type": "code",
      "source": [
        "# how many super over finishes occur.\n",
        "\n",
        "sup = matches['SuperOver'] == 'Y'\n",
        "print(sup)\n",
        "\n",
        "sup.sum() # adds all the corresponding 1's and 0's."
      ],
      "metadata": {
        "id": "pUiclO2Qry3Q"
      },
      "execution_count": null,
      "outputs": []
    },
    {
      "cell_type": "code",
      "source": [
        "# another method for this is,\n",
        "\n",
        "matches['SuperOver'] == 'Y'\n",
        "\n",
        "matches[matches['SuperOver'] == 'Y'] # ----> It will provide superover column only.\n",
        "\n",
        "matches[matches['SuperOver'] == 'Y'].shape[0]"
      ],
      "metadata": {
        "id": "1fA-8LIJsxoW"
      },
      "execution_count": null,
      "outputs": []
    },
    {
      "cell_type": "code",
      "source": [
        "# How many matches has CSK won in KOLKATA.\n",
        "\n",
        "# 1) matches played in -> kolkata\n",
        "# 2) search winning team.\n",
        "\n",
        "\n",
        "\n",
        "matches[matches['City'] == 'Kolkata']\n",
        "\n",
        "\n",
        "matches[(matches['City'] == 'Kolkata')&(matches['WinningTeam'] == 'ChennaiSuperKings')]\n",
        "\n",
        "\n",
        "matches[(matches['City'] == 'Kolkata')&(matches['WinningTeam'] == 'ChennaiSuperKings')].shape[0]"
      ],
      "metadata": {
        "id": "HCsDe7p8tf9_"
      },
      "execution_count": null,
      "outputs": []
    },
    {
      "cell_type": "code",
      "source": [
        "# Toss winner is match winner in percentage.\n",
        "\n",
        "df = matches[(matches['TossWinner']) == (matches['WinningTeam'])].shape[0] # --> toss winner is match winner number.\n",
        "\n",
        "# percentage.\n",
        "print(matches.shape[0])  # --> represent, ttal number of matches played.\n",
        "\n",
        "print((matches[(matches['TossWinner']) == (matches['WinningTeam'])].shape[0] / matches.shape[0])*100)\n",
        "\n",
        "\n"
      ],
      "metadata": {
        "id": "r2JDVdfPvrNm"
      },
      "execution_count": null,
      "outputs": []
    },
    {
      "cell_type": "code",
      "source": [
        "# find which player has won most potm ->in finals and qualifiers.\n",
        "\n",
        "\n",
        "print(matches['MatchNumber']) # --> We have to take out all numeric digits from it, so that we have strings available only.\n",
        "\n",
        "# solution\n",
        "\n",
        "print(matches['MatchNumber'].str.isdigit())    # It will show sring as false so we will take negatation to take False values.\n",
        "\n",
        "\n",
        "matches[[~matches['MatchNumber'].str.isdigit()]==['Player_Of_Match']].value_counts\n"
      ],
      "metadata": {
        "id": "zpfyly0ny2cQ"
      },
      "execution_count": null,
      "outputs": []
    },
    {
      "cell_type": "code",
      "source": [
        "# toss decision plot.\n",
        "\n",
        "matches['TossDecision'].value_counts().plot(kind='pie')"
      ],
      "metadata": {
        "id": "wWhbOk4ohhm9"
      },
      "execution_count": null,
      "outputs": []
    },
    {
      "cell_type": "code",
      "source": [
        "# how many matches each team has played.\n",
        "\n",
        "c1 = matches['Team1'].value_counts()\n",
        "print(matches['Team1'].value_counts()) # -->give the series of matches played by each team in column(Team1)\n",
        "\n",
        "c2 = matches['Team2'].value_counts()\n",
        "print(matches['Team2'].value_counts())  # -->give the series of matches played by each team in column(Team1)\n",
        "\n",
        "c3 = c1 + c2\n",
        "print(c1 + c2)\n",
        "\n",
        "c3.sort_values(ascending=False)\n",
        "\n",
        "\n",
        "# Note: We can perform all the arithmatic operations on series whose indices matches."
      ],
      "metadata": {
        "id": "YeYJc1WCkLdT"
      },
      "execution_count": null,
      "outputs": []
    },
    {
      "cell_type": "code",
      "source": [
        "# We can also apply sort on multipe columns.\n",
        "\n",
        "print(matches.sort_values(['Date','Season']))\n",
        "\n",
        "# applying filter to the sort_values() method.\n",
        "\n",
        "print(matches.sort_values(['Date','Season'], ascending=[True,False]))"
      ],
      "metadata": {
        "id": "rTMmdjDgr0Vy"
      },
      "execution_count": null,
      "outputs": []
    },
    {
      "cell_type": "code",
      "source": [
        "# rank() method\n",
        "\n",
        "matches['Margin'].rank(ascending=True)\n",
        "\n",
        "\n",
        "matches['batting_rank'] = matches['Margin'].rank(ascending=True)\n",
        "\n",
        "matches.sort_values('batting_rank')"
      ],
      "metadata": {
        "id": "pzPkb6pismky"
      },
      "execution_count": null,
      "outputs": []
    },
    {
      "cell_type": "code",
      "source": [
        "# list all the ipl seasons\n",
        "\n",
        "print(matches['Season'].unique())\n",
        "\n",
        "# total ipl seasons\n",
        "\n",
        "print(matches['Season'].unique().shape[0])"
      ],
      "metadata": {
        "id": "qiDHo7PX_X75"
      },
      "execution_count": null,
      "outputs": []
    },
    {
      "cell_type": "code",
      "source": [
        "# isnull and notnull method:\n",
        "\n",
        "# isnull:  provides a series where return TRUE, corresponding to NaN values.\n",
        "\n",
        "bool_series_1 = matches['method'].isnull()\n",
        "print(bool_series_1)\n",
        "\n",
        "\n",
        "# notnull:  provides a series where return FALSE, corresponding to NaN values.\n",
        "bool_series_2 = matches['method'].isnull()\n",
        "print(bool_series_2)"
      ],
      "metadata": {
        "id": "9mzl2aRK_jIh"
      },
      "execution_count": null,
      "outputs": []
    },
    {
      "cell_type": "code",
      "source": [
        "# dropna and fillna method:\n",
        "\n",
        "#dropna: Remove all rows wit NULL values from the DataFrame.\n",
        "\n",
        "df_x = pd.read_csv('/content/ipl-matches.csv')\n",
        "\n",
        "newdf_x = df_x.dropna()\n",
        "\n",
        "print(newdf_x)"
      ],
      "metadata": {
        "id": "WO4uCvFzCRXO"
      },
      "execution_count": null,
      "outputs": []
    },
    {
      "cell_type": "code",
      "source": [
        "# fillna : Replace NULL values with the number 222222:\n",
        "\n",
        "df_y = pd.read_csv('/content/ipl-matches.csv')\n",
        "\n",
        "newdf_y = df_y.fillna(222222)\n",
        "\n",
        "print(newdf_y)"
      ],
      "metadata": {
        "id": "rqG2n5c1DAJb"
      },
      "execution_count": null,
      "outputs": []
    }
  ]
}